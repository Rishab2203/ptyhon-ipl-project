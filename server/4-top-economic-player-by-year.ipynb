{
 "cells": [
  {
   "cell_type": "code",
   "execution_count": null,
   "id": "a4e01e69",
   "metadata": {},
   "outputs": [],
   "source": [
    "import pandas as pd\n",
    "matches_df = pd.read_csv(\"../data/matches.csv\")\n",
    "deliveries_df = pd.read_csv(\"../data/deliveries.csv\")\n",
    "deliveries_df.rename(columns={\"match_id\":\"id\"},inplace=True)\n",
    "\n",
    "df = matches_df[[\"id\",\"season\"]].merge(deliveries_df,on=\"id\",how=\"right\")\n",
    "df"
   ]
  },
  {
   "cell_type": "code",
   "execution_count": 7,
   "id": "65c04cdd",
   "metadata": {},
   "outputs": [],
   "source": [
    "# filtering rows based on the season and columns required\n",
    "season_wise_df = df.loc[df[\"season\"]==2016,[\"bowler\",\"batsman_runs\"]]\n"
   ]
  },
  {
   "cell_type": "code",
   "execution_count": null,
   "id": "924fa962",
   "metadata": {},
   "outputs": [
    {
     "data": {
      "text/html": [
       "<div>\n",
       "<style scoped>\n",
       "    .dataframe tbody tr th:only-of-type {\n",
       "        vertical-align: middle;\n",
       "    }\n",
       "\n",
       "    .dataframe tbody tr th {\n",
       "        vertical-align: top;\n",
       "    }\n",
       "\n",
       "    .dataframe thead th {\n",
       "        text-align: right;\n",
       "    }\n",
       "</style>\n",
       "<table border=\"1\" class=\"dataframe\">\n",
       "  <thead>\n",
       "    <tr style=\"text-align: right;\">\n",
       "      <th></th>\n",
       "      <th>index</th>\n",
       "      <th>bowler</th>\n",
       "      <th>economy</th>\n",
       "    </tr>\n",
       "  </thead>\n",
       "  <tbody>\n",
       "    <tr>\n",
       "      <th>0</th>\n",
       "      <td>65</td>\n",
       "      <td>N Rana</td>\n",
       "      <td>0.500000</td>\n",
       "    </tr>\n",
       "    <tr>\n",
       "      <th>1</th>\n",
       "      <td>62</td>\n",
       "      <td>MR Marsh</td>\n",
       "      <td>0.800000</td>\n",
       "    </tr>\n",
       "    <tr>\n",
       "      <th>2</th>\n",
       "      <td>93</td>\n",
       "      <td>Sachin Baby</td>\n",
       "      <td>0.800000</td>\n",
       "    </tr>\n",
       "    <tr>\n",
       "      <th>3</th>\n",
       "      <td>103</td>\n",
       "      <td>YK Pathan</td>\n",
       "      <td>0.815789</td>\n",
       "    </tr>\n",
       "    <tr>\n",
       "      <th>4</th>\n",
       "      <td>45</td>\n",
       "      <td>JW Hastings</td>\n",
       "      <td>0.833333</td>\n",
       "    </tr>\n",
       "    <tr>\n",
       "      <th>5</th>\n",
       "      <td>16</td>\n",
       "      <td>CH Gayle</td>\n",
       "      <td>0.876923</td>\n",
       "    </tr>\n",
       "    <tr>\n",
       "      <th>6</th>\n",
       "      <td>83</td>\n",
       "      <td>S Gopal</td>\n",
       "      <td>1.000000</td>\n",
       "    </tr>\n",
       "    <tr>\n",
       "      <th>7</th>\n",
       "      <td>56</td>\n",
       "      <td>M Vijay</td>\n",
       "      <td>1.000000</td>\n",
       "    </tr>\n",
       "    <tr>\n",
       "      <th>8</th>\n",
       "      <td>3</td>\n",
       "      <td>A Zampa</td>\n",
       "      <td>1.067961</td>\n",
       "    </tr>\n",
       "    <tr>\n",
       "      <th>9</th>\n",
       "      <td>79</td>\n",
       "      <td>R Vinay Kumar</td>\n",
       "      <td>1.070175</td>\n",
       "    </tr>\n",
       "  </tbody>\n",
       "</table>\n",
       "</div>"
      ],
      "text/plain": [
       "   index         bowler   economy\n",
       "0     65         N Rana  0.500000\n",
       "1     62       MR Marsh  0.800000\n",
       "2     93    Sachin Baby  0.800000\n",
       "3    103      YK Pathan  0.815789\n",
       "4     45    JW Hastings  0.833333\n",
       "5     16       CH Gayle  0.876923\n",
       "6     83        S Gopal  1.000000\n",
       "7     56        M Vijay  1.000000\n",
       "8      3        A Zampa  1.067961\n",
       "9     79  R Vinay Kumar  1.070175"
      ]
     },
     "execution_count": 30,
     "metadata": {},
     "output_type": "execute_result"
    }
   ],
   "source": [
    "# grouping the deilveries by bowler\n",
    "\n",
    "bowler_stats= season_wise_df.groupby(\"bowler\")[\"batsman_runs\"].mean().reset_index()\n",
    "bowler_stats.rename(columns={\"batsman_runs\":\"economy\"}, inplace=True).sort_values(by=\"economy\").reset_index().head(10)\n"
   ]
  }
 ],
 "metadata": {
  "kernelspec": {
   "display_name": "Python 3",
   "language": "python",
   "name": "python3"
  },
  "language_info": {
   "codemirror_mode": {
    "name": "ipython",
    "version": 3
   },
   "file_extension": ".py",
   "mimetype": "text/x-python",
   "name": "python",
   "nbconvert_exporter": "python",
   "pygments_lexer": "ipython3",
   "version": "3.10.12"
  }
 },
 "nbformat": 4,
 "nbformat_minor": 5
}
